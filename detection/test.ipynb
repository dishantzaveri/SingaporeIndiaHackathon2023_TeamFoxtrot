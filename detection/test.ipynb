{
 "cells": [
  {
   "cell_type": "code",
   "execution_count": 11,
   "metadata": {},
   "outputs": [],
   "source": [
    "import numpy as np\n",
    "import pandas as pd\n",
    "import os.path as osp\n",
    "import math"
   ]
  },
  {
   "cell_type": "code",
   "execution_count": 3,
   "metadata": {},
   "outputs": [],
   "source": [
    "num_method = 3\n",
    "num_pattern = 11\n",
    "window_size = 50\n",
    "overlap = 10\n",
    "root_path = 'C:\\\\Users\\\\Chua_ChengHong\\\\OneDrive - Dell Technologies\\\\Desktop\\\\SingaporeIndiaHackathon2023_TeamFoxtrot-master\\detection'\n",
    "\n",
    "actual_data = pd.read_csv(osp.join(root_path, 'input/bp_full_window_act.csv'))\n",
    "predicted_data_window_based = pd.read_csv(osp.join(root_path, 'input/bp_full_window_pred.csv'))\n",
    "predicted_data_day_based = pd.read_csv(osp.join(root_path, 'input/bp_full_point_pred.csv'))\n",
    "predicted_data_historical_based = pd.read_csv(osp.join(root_path, 'input/bp_full_sequence_pred.csv'))\n",
    "pattern_mat = pd.read_csv(osp.join(root_path, 'input/pattern.csv'))\n",
    "pattern_desc_arr = pd.read_csv(osp.join(root_path, 'input/pattern_sizes.csv'))"
   ]
  },
  {
   "cell_type": "code",
   "execution_count": 16,
   "metadata": {},
   "outputs": [],
   "source": [
    "methods = [\n",
    "    [len(predicted_data_window_based), math.ceil(len(predicted_data_window_based) / window_size)],\n",
    "    [len(predicted_data_day_based), math.ceil(len(predicted_data_day_based) / window_size)],\n",
    "    [len(predicted_data_historical_based), math.ceil(len(predicted_data_historical_based) / window_size)]\n",
    "]"
   ]
  },
  {
   "cell_type": "code",
   "execution_count": 15,
   "metadata": {},
   "outputs": [
    {
     "name": "stdout",
     "output_type": "stream",
     "text": [
      "0\n",
      "1\n",
      "2\n"
     ]
    }
   ],
   "source": [
    "for method in range(3):\n",
    "    print(method)"
   ]
  },
  {
   "cell_type": "code",
   "execution_count": null,
   "metadata": {},
   "outputs": [],
   "source": [
    "for method in range(3):\n",
    "    num_window = methods[method][2]\n",
    "    for window in range(num_window):\n",
    "        normalized_cross_correlation(method, window, 0, 0)\n",
    "        for pattern in range(num_pattern):\n",
    "            overlap = 10\n",
    "            if window == num_window:\n",
    "                overlap = 0\n",
    "            for day in range(window_size - ( pattern_desc_arr(pattern) - overlap)):\n",
    "                normalized_cross_correlation(method, window, pattern, day)"
   ]
  },
  {
   "cell_type": "code",
   "execution_count": null,
   "metadata": {},
   "outputs": [],
   "source": [
    "pd.to_csv(ops.join(root_path, 'output/bp_output.csv'), result)\n",
    "\n",
    "result_header = 'Method, Window, Pattern, Day'\n",
    "result"
   ]
  },
  {
   "cell_type": "code",
   "execution_count": null,
   "metadata": {},
   "outputs": [],
   "source": [
    "def normalized_cross_correlation(method, window, pattern, day):\n",
    "    signal1 = []\n",
    "    signal2 = []\n",
    "    predicted_data = []\n",
    "    \n",
    "    if method == 1:\n",
    "        predicted_data = predicted_data_window_based(:,:)\n",
    "        graph_title1 = 'True vs predicted (window based).(w='\n",
    "        graph_title1 = graph_title1 + str(window) + ',p =' + str(pattern) + ',d=' str(day)  + ')'\n",
    "        graph_title2 = 'Day lag vs normalized cross correlation.(w='\n",
    "        graph_title2 = graph_title2 + str(window) + ',p=' + str(pattern) + ',d=' str(day) + ')'\n",
    "    elif method == 2:\n",
    "        predicted_data = predicted_data_day_based(:,:)\n",
    "        graph_title1 = 'True vs predicted (day based).(w='\n",
    "        graph_title1 = graph_title1 + str(window) + ',p =' + str(pattern) + ',d=' str(day)  + ')'\n",
    "        graph_title2 = 'Day lag vs normalized cross correlation.(w='\n",
    "        graph_title2 = graph_title2 + str(window) + ',p=' + str(pattern) + ',d=' str(day) + ')'\n",
    "    elif method == 3:\n",
    "        predicted_data = predicted_data_historical_based(:,:)\n",
    "        graph_title1 = 'True vs predicted (whole historical based).(w='\n",
    "        graph_title1 = graph_title1 + str(window) + ',p ='  str(pattern) + ',d=' + str(day) + ')'\n",
    "        graph_title2 = 'Day lag vs normalized cross correlation.(w='\n",
    "        graph_title2 = graph_title2 + str(window) + ',p=' str(pattern) + ',d=' + str(day) + ')'\n",
    "            \n",
    "    if pattern == 0:\n",
    "        signal1_end = signal1_start + window_size -1\n",
    "        if len(predicted_data) < signal1_end:\n",
    "            signal1_end = len(predicted_data)\n",
    "        signal2_start = signal1_start\n",
    "        signal2_end = signal1_end\n",
    "        \n",
    "        signal1 = predicted_data(signal1_start : signal1_end)\n",
    "        signal2 = actual_data(signal2_start: signal2_end)\n",
    "    elif pattern > 0:   \n",
    "        signal1_start = ((window-1) * window_size) + day\n",
    "        signal1_end = signal1_start + pattern_desc_arr(pattern) - 1\n",
    "        if len(predicted_data) < signal1\n",
    "            signal1_end = len(predicted_data)\n",
    "        signal1 = predicted_data(signal1_start : signal1_end)\n",
    "        signal2 = pattern_mat(pattern,1: pattern_desc_arr(pattern))\n",
    "    \n",
    "    if len(signal1) == len(signal2):\n",
    "        [cor_sequence,lag] = xcorr(signal1,signal2, 'coeff')\n",
    "        if max(cor_sequence) > .80\n",
    "            result = [result method window pattern day]\n",
    "            x1=linspace(1,len(signal1),len(signal1))\n",
    "            figure()\n",
    "            plot(x1,signal2,x1,signal1)\n",
    "            legend('actual','predicted')\n",
    "            xlabel('day')\n",
    "            ylabel('volume')\n",
    "            title(graph_title1)\n",
    "\n",
    "            figure()\n",
    "            plot(lag, cor_sequence)\n",
    "            [max_cor,max_index] = max(cor_sequence)\n",
    "\n",
    "            xlabel2 = ['Maximum ncr = ' num2str(max_cor) ' at day lag = ' str(lag(max_index))]\n",
    "            xlabel({'day lag',xlabel2})\n",
    "            ylabel('normalized cross correlation')\n",
    "            title(graph_title2)-+\n",
    "\n",
    "\n",
    " "
   ]
  }
 ],
 "metadata": {
  "kernelspec": {
   "display_name": "Python 3",
   "language": "python",
   "name": "python3"
  },
  "language_info": {
   "codemirror_mode": {
    "name": "ipython",
    "version": 3
   },
   "file_extension": ".py",
   "mimetype": "text/x-python",
   "name": "python",
   "nbconvert_exporter": "python",
   "pygments_lexer": "ipython3",
   "version": "3.11.2"
  },
  "orig_nbformat": 4
 },
 "nbformat": 4,
 "nbformat_minor": 2
}
