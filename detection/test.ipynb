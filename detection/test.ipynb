{
 "cells": [
  {
   "cell_type": "code",
   "execution_count": 1,
   "metadata": {},
   "outputs": [],
   "source": [
    "import numpy as np\n",
    "import pandas as pd\n",
    "import os.path as osp\n",
    "import math\n",
    "import matplotlib.pyplot as plt"
   ]
  },
  {
   "cell_type": "code",
   "execution_count": 3,
   "metadata": {},
   "outputs": [],
   "source": [
    "num_method = 3\n",
    "num_pattern = 11\n",
    "window_size = 50\n",
    "overlap = 10\n",
    "root_path = 'D:\\A-Deep-Learning-Based-Illegal-Insider-Trading-Detection-and-Prediction-Technique-in-Stock-Market\\detection'\n",
    "\n",
    "actual_data_df = pd.read_csv(osp.join(root_path, 'input/bp_full_window_act.csv'), header = None)\n",
    "predicted_data_window_based = pd.read_csv(osp.join(root_path, 'input/bp_full_window_pred.csv'), header = None)\n",
    "predicted_data_day_based = pd.read_csv(osp.join(root_path, 'input/bp_full_point_pred.csv'), header = None)\n",
    "predicted_data_historical_based = pd.read_csv(osp.join(root_path, 'input/bp_full_sequence_pred.csv'), header = None)\n",
    "pattern_mat = pd.read_csv(osp.join(root_path, 'input/pattern.csv'), header = None, names = [i for i in range(50)])\n",
    "pattern_desc_arr = pd.read_csv(osp.join(root_path, 'input/pattern_sizes.csv'), header = None)"
   ]
  },
  {
   "cell_type": "code",
   "execution_count": 4,
   "metadata": {},
   "outputs": [],
   "source": [
    "methods = [\n",
    "    [len(predicted_data_window_based), math.ceil(len(predicted_data_window_based) / window_size)],\n",
    "    [len(predicted_data_day_based), math.ceil(len(predicted_data_day_based) / window_size)],\n",
    "    [len(predicted_data_historical_based), math.ceil(len(predicted_data_historical_based) / window_size)]\n",
    "]"
   ]
  },
  {
   "cell_type": "code",
   "execution_count": 6,
   "metadata": {},
   "outputs": [],
   "source": [
    "def normalized_cross_correlation(method, window, pattern, day):\n",
    "    global results\n",
    "    \n",
    "    title_mode = ['Window', 'Day', 'Historical'][method - 1]\n",
    "    graph_title1 = 'True vs predicted (' + title_mode + ') [w=' + str(window) + ', p =' + str(pattern) + ', d=' + str(day) + ')'\n",
    "    graph_title2 = 'Day lag vs normalized cross correlation [w=' + str(window) + ', p=' + str(pattern) + ', d=' + str(day) + ')'\n",
    "\n",
    "    actual_data = actual_data_df.iloc[:, 0]\n",
    "    predicted_data = predicted_data_historical_based.iloc[:,0] if method == 3 else predicted_data_window_based.iloc[:,0]\n",
    "\n",
    "    if pattern == 0:\n",
    "        signal1_start = ((window - 1) * window_size) + 1;\n",
    "        signal1_end = min(signal1_start + window_size - 1, len(predicted_data))\n",
    "\n",
    "        signal2_start = signal1_start\n",
    "        signal2_end = signal1_end\n",
    "        \n",
    "        signal1 = predicted_data[signal1_start : signal1_end]\n",
    "        signal2 = actual_data[signal2_start: signal2_end]\n",
    "    elif pattern > 0:\n",
    "        signal1_start = ((window - 1) * window_size) + day;\n",
    "        signal1_end = min(signal1_start + pattern_desc_arr.iloc[0, pattern - 1] - 1, len(predicted_data))\n",
    "\n",
    "        signal1 = predicted_data[signal1_start:signal1_end]\n",
    "        signal2 = pattern_mat.iloc[pattern - 1, :pattern_desc_arr.iloc[0, pattern - 1]]\n",
    "\n",
    "\n",
    "    if len(signal1) == len(signal2):\n",
    "        lag, cor_sequence, _, _ = plt.xcorr(signal1, signal2, 'coeff')\n",
    "        if max(cor_sequence) > 80:\n",
    "            results.append([method, window, pattern, day])\n",
    "            x1 = np.linspace(1, len(signal1), len(signal1))\n",
    "            plt.xlabel('day')\n",
    "            plt.ylabel('volume')\n",
    "            plt.title(graph_title1)\n",
    "            plt.plot(x1, signal1)\n",
    "            plt.plot(x1, signal2)\n",
    "\n",
    "            plt.plot(lag, cor_sequence)\n",
    "            max_index = np.argmax(cor_sequence)\n",
    "            max_cor = cor_sequence[max_index]\n",
    "            plt.xlabel({'Day Lag', 'Maximum ncr = ' + str(max_cor) + ' at day lag = ' + str(max_index)})\n",
    "            plt.ylabel('normalized cross correlation')\n",
    "            plt.title(graph_title2)"
   ]
  },
  {
   "cell_type": "code",
   "execution_count": 7,
   "metadata": {},
   "outputs": [
    {
     "data": {
      "image/png": "[encoded data removed]",
      "text/plain": [
       "<Figure size 640x480 with 1 Axes>"
      ]
     },
     "metadata": {},
     "output_type": "display_data"
    }
   ],
   "source": [
    "results = []\n",
    "for method in range(3):\n",
    "    num_window = methods[method][1] - 1\n",
    "    for window in range(num_window):\n",
    "        normalized_cross_correlation(method + 1, window + 1, 0, 0);\n",
    "        for pattern in range(num_pattern):\n",
    "            overlap = 10\n",
    "            if (window + 1) == num_window:\n",
    "                overlap = 0\n",
    "            for day in range(window_size - (pattern_desc_arr.iloc[0, pattern] - overlap)):\n",
    "                normalized_cross_correlation(method + 1, window + 1, pattern + 1, day + 1);"
   ]
  },
  {
   "cell_type": "code",
   "execution_count": 21,
   "metadata": {},
   "outputs": [
    {
     "name": "stdout",
     "output_type": "stream",
     "text": [
      "[]\n"
     ]
    }
   ],
   "source": [
    "print(results)"
   ]
  },
  {
   "cell_type": "code",
   "execution_count": 17,
   "metadata": {},
   "outputs": [],
   "source": [
    "result_header = ['Method', 'Window', 'Pattern', 'Day']\n",
    "df = pd.DataFrame(data=results, columns=result_header)\n",
    "df.to_csv(osp.join(root_path, 'output/final_output.csv'))"
   ]
  },
  {
   "cell_type": "code",
   "execution_count": 20,
   "metadata": {},
   "outputs": [
    {
     "name": "stdout",
     "output_type": "stream",
     "text": [
      "Empty DataFrame\n",
      "Columns: [Unnamed: 0, Method, Window, Pattern, Day]\n",
      "Index: []\n"
     ]
    }
   ],
   "source": [
    "df = pd.read_csv(\"output/final_output.csv\")\n",
    "print(df)"
   ]
  }
 ],
 "metadata": {
  "kernelspec": {
   "display_name": "Python 3",
   "language": "python",
   "name": "python3"
  },
  "language_info": {
   "codemirror_mode": {
    "name": "ipython",
    "version": 3
   },
   "file_extension": ".py",
   "mimetype": "text/x-python",
   "name": "python",
   "nbconvert_exporter": "python",
   "pygments_lexer": "ipython3",
   "version": "3.11.2"
  },
  "orig_nbformat": 4
 },
 "nbformat": 4,
 "nbformat_minor": 2
}
